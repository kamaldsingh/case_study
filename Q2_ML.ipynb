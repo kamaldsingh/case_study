{
 "cells": [
  {
   "cell_type": "markdown",
   "id": "3284a76e-0655-4156-8ad4-3dcee9d4bb5b",
   "metadata": {},
   "source": [
    "\n",
    "===\n",
    "\n",
    "Data Challenge:\n",
    "\n",
    "For this data science challenge, you are provided with a dataset containing mobility traces of ~500 taxi cabs in San Francisco collected over ~30 days. The format of each mobility trace file is the following - each line contains [latitude, longitude, occupancy, time], e.g.: [37.75134 -122.39488 0 1213084687], where latitude and longitude are in decimal degrees, occupancy shows if a cab has a fare (1 = occupied, 0 = free) and time is in UNIX epoch format.\n",
    "\n",
    "The goal of this data science challenge is twofold:\n",
    "\n",
    "1. To calculate the potential for a yearly reduction in CO2 emissions, caused by the taxi cabs roaming without passengers. In your calculation please assume that the taxicab fleet is changing at the rate of 15% per month (from combustion engine-powered vehicles to electric vehicles). Assume also that the average passenger vehicle emits about 404 grams of CO2 per mile.\n",
    "\n",
    "2. To build a predictor for taxi drivers, predicting the next place a passenger will hail a cab.\n",
    "\n",
    "3. (Bonus question) Identify clusters of taxi cabs that you find being relevant from the taxi cab company point of view.\n",
    "\n",
    "===\n",
    "\n",
    "Instructions:\n",
    "\n",
    "Please prepare the presentation with your results. In the final presentation, you'll have to justify and explain:\n",
    "\n",
    "1. Explanatory data analysis that you performed.\n",
    "\n",
    "2. All the preprocessing steps that you made. Please be ready to explain any assumptions you made during the preprocessing phase.\n",
    "\n",
    "3. Modeling techniques that you used to build your predictor\n",
    "\n",
    "4. The metrics and methods that you used to quantify the performance of your prediction\n",
    "\n",
    "You'll have 20 min to present (sharp), followed by Q&A session of 30 min, leaving 10 min for wrap-up and next steps.\n",
    "\n",
    "Together with your presentation, you'll need to provide us with your source code written in Python. The best will be if you could share with us your code via GitHub - please send us an email to [1] Krzysztof.Stec@pmi.com [2] Nidhi.Singh@pmi.com and [3] Michal.Piorkowski@pmi.com when ready.\n",
    "\n",
    "The Interviewers will be waiting for you in the call at June 17, 2022 (Friday) at 2:00 PM (Central European Summer Time).\n"
   ]
  },
  {
   "cell_type": "markdown",
   "id": "6c6ba237-a890-4c11-8fba-81571ed56b79",
   "metadata": {
    "tags": []
   },
   "source": [
    "## Imports, Global Vars etc"
   ]
  },
  {
   "cell_type": "code",
   "execution_count": 22,
   "id": "e450f3b9-4b2e-43d9-a0b3-c3a0cd47273a",
   "metadata": {},
   "outputs": [],
   "source": [
    "%run mlhelpers.py\n",
    "%matplotlib inline\n",
    "\n",
    "pd.set_option('display.float_format', lambda x: f'%.{len(str(x%1))-2}f' % x)\n",
    "pd.set_option('display.max_rows', 100)\n",
    "pd.set_option('display.max_columns', 500)"
   ]
  },
  {
   "cell_type": "markdown",
   "id": "b0614188-e8cc-4b28-b5f2-18fda5d97d9b",
   "metadata": {},
   "source": [
    "# Q2 - predictor for taxi drivers, predicting the next place a passenger will hail a cab."
   ]
  },
  {
   "cell_type": "code",
   "execution_count": 158,
   "id": "2c72f829-0b88-4f69-b7b9-474aea046fd1",
   "metadata": {},
   "outputs": [],
   "source": [
    "df_all = pd.read_csv('./data/df_train.csv')"
   ]
  },
  {
   "cell_type": "code",
   "execution_count": 23,
   "id": "63ad5292-9041-4927-99de-b899e6245369",
   "metadata": {},
   "outputs": [
    {
     "data": {
      "text/html": [
       "<div>\n",
       "<style scoped>\n",
       "    .dataframe tbody tr th:only-of-type {\n",
       "        vertical-align: middle;\n",
       "    }\n",
       "\n",
       "    .dataframe tbody tr th {\n",
       "        vertical-align: top;\n",
       "    }\n",
       "\n",
       "    .dataframe thead th {\n",
       "        text-align: right;\n",
       "    }\n",
       "</style>\n",
       "<table border=\"1\" class=\"dataframe\">\n",
       "  <thead>\n",
       "    <tr style=\"text-align: right;\">\n",
       "      <th></th>\n",
       "      <th>Latitude</th>\n",
       "      <th>Longitude</th>\n",
       "      <th>DayOfWeek</th>\n",
       "      <th>HourOfDay</th>\n",
       "      <th>DayOfMonth</th>\n",
       "      <th>MinuteOfHour</th>\n",
       "      <th>Occupancy</th>\n",
       "    </tr>\n",
       "  </thead>\n",
       "  <tbody>\n",
       "    <tr>\n",
       "      <th>0</th>\n",
       "      <td>37.7643899999999988</td>\n",
       "      <td>-122.4584600000000023</td>\n",
       "      <td>5.0</td>\n",
       "      <td>10.0</td>\n",
       "      <td>17.0</td>\n",
       "      <td>1.0</td>\n",
       "      <td>0</td>\n",
       "    </tr>\n",
       "    <tr>\n",
       "      <th>1</th>\n",
       "      <td>37.7652399999999986</td>\n",
       "      <td>-122.4543100000000067</td>\n",
       "      <td>5.0</td>\n",
       "      <td>10.0</td>\n",
       "      <td>17.0</td>\n",
       "      <td>2.0</td>\n",
       "      <td>0</td>\n",
       "    </tr>\n",
       "    <tr>\n",
       "      <th>2</th>\n",
       "      <td>37.7657900000000026</td>\n",
       "      <td>-122.450010000000006</td>\n",
       "      <td>5.0</td>\n",
       "      <td>10.0</td>\n",
       "      <td>17.0</td>\n",
       "      <td>3.0</td>\n",
       "      <td>0</td>\n",
       "    </tr>\n",
       "    <tr>\n",
       "      <th>3</th>\n",
       "      <td>37.7677600000000027</td>\n",
       "      <td>-122.4503500000000003</td>\n",
       "      <td>5.0</td>\n",
       "      <td>10.0</td>\n",
       "      <td>17.0</td>\n",
       "      <td>4.0</td>\n",
       "      <td>0</td>\n",
       "    </tr>\n",
       "    <tr>\n",
       "      <th>4</th>\n",
       "      <td>37.7698200000000028</td>\n",
       "      <td>-122.4487699999999961</td>\n",
       "      <td>5.0</td>\n",
       "      <td>10.0</td>\n",
       "      <td>17.0</td>\n",
       "      <td>5.0</td>\n",
       "      <td>0</td>\n",
       "    </tr>\n",
       "  </tbody>\n",
       "</table>\n",
       "</div>"
      ],
      "text/plain": [
       "             Latitude             Longitude  DayOfWeek  HourOfDay  DayOfMonth  \\\n",
       "0 37.7643899999999988 -122.4584600000000023        5.0       10.0        17.0   \n",
       "1 37.7652399999999986 -122.4543100000000067        5.0       10.0        17.0   \n",
       "2 37.7657900000000026  -122.450010000000006        5.0       10.0        17.0   \n",
       "3 37.7677600000000027 -122.4503500000000003        5.0       10.0        17.0   \n",
       "4 37.7698200000000028 -122.4487699999999961        5.0       10.0        17.0   \n",
       "\n",
       "   MinuteOfHour  Occupancy  \n",
       "0           1.0          0  \n",
       "1           2.0          0  \n",
       "2           3.0          0  \n",
       "3           4.0          0  \n",
       "4           5.0          0  "
      ]
     },
     "execution_count": 23,
     "metadata": {},
     "output_type": "execute_result"
    }
   ],
   "source": [
    "df_train = pd.read_csv('./data/df_train.csv')\n",
    "\n",
    "df_train.head()"
   ]
  },
  {
   "cell_type": "code",
   "execution_count": 24,
   "id": "57b54fa7-9692-48f6-b3d3-4dcbdc728182",
   "metadata": {},
   "outputs": [
    {
     "name": "stdout",
     "output_type": "stream",
     "text": [
      "(2166684, 7)\n",
      "(2166597, 7)\n"
     ]
    }
   ],
   "source": [
    "# based on the report we can drop missing values \n",
    "print(df_train.shape)\n",
    "df_train = df_train.dropna()\n",
    "print(df_train.shape)"
   ]
  },
  {
   "cell_type": "code",
   "execution_count": 25,
   "id": "06c2c2ba-804c-4921-a1c0-a4e910bbd4dd",
   "metadata": {},
   "outputs": [
    {
     "name": "stdout",
     "output_type": "stream",
     "text": [
      "0    0.5529034702808137\n",
      "1   0.44709652971918634\n",
      "Name: Occupancy, dtype: float64\n"
     ]
    },
    {
     "data": {
      "text/plain": [
       "<AxesSubplot:xlabel='Occupancy', ylabel='count'>"
      ]
     },
     "execution_count": 25,
     "metadata": {},
     "output_type": "execute_result"
    },
    {
     "data": {
      "image/png": "[encoded data removed]",
      "text/plain": [
       "<Figure size 432x288 with 1 Axes>"
      ]
     },
     "metadata": {
      "needs_background": "light"
     },
     "output_type": "display_data"
    }
   ],
   "source": [
    "print(df_train['Occupancy'].value_counts(normalize=True))\n",
    "sns.countplot(x='Occupancy', data=df_train)"
   ]
  },
  {
   "cell_type": "code",
   "execution_count": 26,
   "id": "56f0f2b0-2541-4f74-bf13-3a0612458e7e",
   "metadata": {},
   "outputs": [],
   "source": [
    "# If ‘balanced’, class weights will be given by n_samples / (n_classes * np.bincount(y))\n",
    "classes_weights = class_weight.compute_sample_weight(\n",
    "    class_weight='balanced',\n",
    "    y=df_train['Occupancy']\n",
    ")"
   ]
  },
  {
   "cell_type": "code",
   "execution_count": 27,
   "id": "8889f7c7-6e2e-47de-8abe-82216fbd2aca",
   "metadata": {},
   "outputs": [],
   "source": [
    "# All numerical columns yet - no encoding needed, later clusters might be added \n",
    "# encodeColums(df_train,cardinality_limit=40000)"
   ]
  },
  {
   "cell_type": "code",
   "execution_count": 28,
   "id": "0c7717a0-6fc6-44c6-88b7-bb1f600685f6",
   "metadata": {},
   "outputs": [],
   "source": [
    "y = df_train.Occupancy\n",
    "df_train.drop(columns='Occupancy',inplace=True)"
   ]
  },
  {
   "cell_type": "code",
   "execution_count": 35,
   "id": "7e670508-49b1-487d-ac2c-b2a1f567712c",
   "metadata": {},
   "outputs": [],
   "source": [
    "X_train, X_test, y_train, y_test = train_test_split(df_train, y, \n",
    "                                                      test_size = 0.2, random_state = 42, stratify=y)"
   ]
  },
  {
   "cell_type": "code",
   "execution_count": 36,
   "id": "522ae233-79de-414a-83d4-4c4d048b3a66",
   "metadata": {},
   "outputs": [],
   "source": [
    "from sklearn.preprocessing import StandardScaler\n",
    "scaler = StandardScaler()\n",
    "scaler.fit(X_train)\n",
    "\n",
    "X_train = scaler.transform(X_train)\n",
    "X_test = scaler.transform(X_test)"
   ]
  },
  {
   "cell_type": "code",
   "execution_count": 37,
   "id": "73bc2f91-ae9d-462c-afd3-1a8cfac64150",
   "metadata": {},
   "outputs": [
    {
     "data": {
      "text/plain": [
       "KNeighborsClassifier()"
      ]
     },
     "execution_count": 37,
     "metadata": {},
     "output_type": "execute_result"
    }
   ],
   "source": [
    "from sklearn.neighbors import KNeighborsClassifier\n",
    "classifier = KNeighborsClassifier(n_neighbors=5)\n",
    "classifier.fit(X_train, y_train)"
   ]
  },
  {
   "cell_type": "code",
   "execution_count": 38,
   "id": "62f76f79-a8a3-45b5-9fc1-9c12a7f5101b",
   "metadata": {},
   "outputs": [],
   "source": [
    "y_pred = classifier.predict(X_test)"
   ]
  },
  {
   "cell_type": "code",
   "execution_count": 147,
   "id": "db1d6111-2aa0-42d0-9053-def916e5b901",
   "metadata": {},
   "outputs": [
    {
     "name": "stdout",
     "output_type": "stream",
     "text": [
      "              precision    recall  f1-score   support\n",
      "\n",
      "           0       0.67      0.69      0.68    239584\n",
      "           1       0.60      0.58      0.59    193736\n",
      "\n",
      "    accuracy                           0.64    433320\n",
      "   macro avg       0.64      0.64      0.64    433320\n",
      "weighted avg       0.64      0.64      0.64    433320\n",
      "\n"
     ]
    }
   ],
   "source": [
    "print(classification_report(y_test, y_pred))"
   ]
  },
  {
   "cell_type": "code",
   "execution_count": 148,
   "id": "711da28d-3de8-417f-9d7d-f741c7817c65",
   "metadata": {},
   "outputs": [
    {
     "data": {
      "image/png": "[encoded data removed]",
      "text/plain": [
       "<Figure size 576x360 with 2 Axes>"
      ]
     },
     "metadata": {
      "needs_background": "light"
     },
     "output_type": "display_data"
    }
   ],
   "source": [
    "plot_confusion_matrix(y_test, y_pred)"
   ]
  },
  {
   "cell_type": "markdown",
   "id": "61ff2c6d-fd6c-46ba-a2ed-be20d906ec3e",
   "metadata": {},
   "source": [
    "### Generate test set with :\n",
    "- distance 1- \"maxkm\" km with step of 1 km\n",
    "- Start and End given lat long\n",
    "- Bearing options - 0,  90, 180, 270, 360"
   ]
  },
  {
   "cell_type": "code",
   "execution_count": 137,
   "id": "6c8dbe76-6c3f-4d9e-bec7-2e9f6e09222f",
   "metadata": {},
   "outputs": [],
   "source": [
    "def generate_test_set(start_lat=37.7643899, start_long=-122.458460000, maxkm=100, maxbearing=360):\n",
    "    \"\"\"Generate test given with given params\"\"\"\n",
    "    test_set = []\n",
    "    for d in np.random.choice(np.arange(1,maxkm+1,step=10),10):\n",
    "        for b in np.arange(0,maxbearing+90,90):\n",
    "            for t in np.random.choice(np.arange(0,24,1),10):\n",
    "                dist=distance.distance(kilometers=d).destination((start_lat,start_long),b)\n",
    "                (test_lat,test_long) = (dist[0],dist[1])\n",
    "                timet = datetime(2008,5,29,10,6,30)\n",
    "                test_set.append(\n",
    "                    [test_lat,test_long,timet.weekday(),t,timet.day,timet.minute]\n",
    "                )\n",
    "    return(test_set)"
   ]
  },
  {
   "cell_type": "code",
   "execution_count": 138,
   "id": "878be4af-6e04-41d4-b557-ffc50eb4df25",
   "metadata": {},
   "outputs": [
    {
     "data": {
      "text/plain": [
       "array([1, 1, 1, 1, 1, 1, 1, 1, 1, 1, 1, 1, 1, 1, 1, 1, 1, 1, 1, 1, 1, 1,\n",
       "       1, 1, 1, 1, 1, 1, 1, 1, 1, 1, 1, 1, 1, 1, 1, 1, 1, 1, 1, 1, 1, 1,\n",
       "       1, 1, 1, 1, 1, 1, 1, 1, 1, 1, 1, 1, 1, 1, 1, 1, 1, 1, 1, 1, 1, 1,\n",
       "       1, 1, 1, 1, 1, 1, 1, 1, 1, 1, 1, 1, 1, 1, 1, 1, 1, 1, 1, 1, 1, 1,\n",
       "       1, 1, 1, 1, 1, 1, 1, 1, 1, 1, 1, 1, 1, 1, 1, 1, 1, 1, 1, 1, 1, 1,\n",
       "       1, 1, 1, 1, 1, 1, 1, 1, 1, 1, 1, 1, 1, 1, 1, 1, 1, 1, 1, 1, 1, 1,\n",
       "       1, 1, 1, 1, 1, 1, 1, 1, 1, 1, 1, 1, 1, 1, 1, 1, 1, 1, 1, 1, 1, 1,\n",
       "       1, 1, 1, 1, 1, 1, 1, 1, 1, 1, 1, 1, 1, 1, 1, 1, 1, 1, 1, 1, 1, 1,\n",
       "       1, 1, 1, 1, 1, 1, 1, 1, 1, 1, 1, 1, 1, 1, 1, 1, 1, 1, 1, 1, 1, 1,\n",
       "       1, 1, 1, 1, 1, 1, 1, 1, 1, 1, 1, 1, 1, 1, 1, 1, 1, 1, 1, 1, 1, 1,\n",
       "       1, 1, 1, 1, 1, 1, 1, 1, 1, 1, 1, 1, 1, 1, 1, 1, 1, 1, 1, 1, 1, 1,\n",
       "       1, 1, 1, 1, 1, 1, 1, 1, 1, 1, 1, 1, 1, 1, 1, 1, 1, 1, 1, 1, 1, 1,\n",
       "       1, 1, 1, 1, 1, 1, 1, 1, 1, 1, 1, 1, 1, 1, 1, 1, 1, 1, 1, 1, 1, 1,\n",
       "       1, 1, 1, 1, 1, 1, 1, 1, 1, 1, 1, 1, 1, 1, 1, 1, 1, 1, 1, 1, 1, 1,\n",
       "       1, 1, 1, 1, 1, 1, 1, 1, 1, 1, 1, 1, 1, 1, 1, 1, 1, 1, 1, 1, 1, 1,\n",
       "       1, 1, 1, 1, 1, 1, 1, 1, 1, 1, 1, 1, 1, 1, 1, 1, 1, 1, 1, 1, 1, 1,\n",
       "       1, 1, 1, 1, 1, 1, 1, 1, 1, 1, 1, 1, 1, 1, 1, 1, 1, 1, 1, 1, 1, 1,\n",
       "       1, 1, 1, 1, 1, 1, 1, 1, 1, 1, 1, 1, 1, 1, 1, 1, 1, 1, 1, 1, 1, 1,\n",
       "       1, 1, 1, 1, 1, 1, 1, 1, 1, 1, 1, 1, 1, 1, 1, 1, 1, 1, 1, 1, 1, 1,\n",
       "       1, 1, 1, 1, 1, 1, 1, 1, 1, 1, 1, 1, 1, 1, 1, 1, 1, 1, 1, 1, 1, 1,\n",
       "       1, 1, 1, 1, 1, 1, 1, 1, 1, 1, 1, 1, 1, 1, 1, 1, 1, 1, 1, 1, 1, 1,\n",
       "       1, 1, 1, 1, 1, 1, 1, 1, 1, 1, 1, 1, 1, 1, 1, 1, 1, 1, 1, 1, 1, 1,\n",
       "       1, 1, 1, 1, 1, 1, 1, 1, 1, 1, 1, 1, 1, 1, 1, 1])"
      ]
     },
     "execution_count": 138,
     "metadata": {},
     "output_type": "execute_result"
    }
   ],
   "source": [
    "test_set_c = generate_test_set()\n",
    "classifier.predict(test_set_c)"
   ]
  },
  {
   "cell_type": "code",
   "execution_count": 139,
   "id": "ea39b911-2c91-40ba-b2f7-9cd21eb08fdb",
   "metadata": {},
   "outputs": [
    {
     "name": "stdout",
     "output_type": "stream",
     "text": [
      "[12:14:23] WARNING: /Users/runner/miniforge3/conda-bld/xgboost-split_1637426408905/work/src/learner.cc:576: \n",
      "Parameters: { \"sample_weight\" } might not be used.\n",
      "\n",
      "  This could be a false alarm, with some parameters getting used by language bindings but\n",
      "  then being mistakenly passed down to XGBoost core, or some parameter actually being used\n",
      "  but getting flagged wrongly here. Please open an issue if you find any such cases.\n",
      "\n",
      "\n"
     ]
    }
   ],
   "source": [
    "# best_model = grid_search_xgb.best_estimator_\n",
    "best_model = XGBClassifier(random_state=42, n_estimators = 100, max_depth = 5,\n",
    "                           objective=\"binary:logistic\", sample_weight=classes_weights)\n",
    "best_model.fit(X_train, y_train,  eval_metric = 'auc')\n",
    "y_pred = best_model.predict(X_test)"
   ]
  },
  {
   "cell_type": "code",
   "execution_count": 140,
   "id": "e030c73d-5df5-4b24-b566-b77d3b971286",
   "metadata": {},
   "outputs": [
    {
     "data": {
      "text/plain": [
       "array([0, 0, 0, 0, 0, 0, 0, 0, 0, 0, 0, 0, 0, 0, 0, 0, 0, 0, 0, 0, 0, 0,\n",
       "       0, 0, 0, 0, 0, 0, 0, 0, 0, 0, 0, 0, 0, 0, 0, 0, 0, 0, 0, 0, 0, 0,\n",
       "       0, 0, 0, 0, 0, 0, 0, 0, 0, 0, 0, 0, 0, 0, 0, 0, 0, 0, 0, 0, 0, 0,\n",
       "       0, 0, 0, 0, 0, 0, 0, 0, 0, 0, 0, 0, 0, 0, 0, 0, 0, 0, 0, 0, 0, 0,\n",
       "       0, 0, 0, 0, 0, 0, 0, 0, 0, 0, 0, 0, 0, 0, 0, 0, 0, 0, 0, 0, 0, 0,\n",
       "       0, 0, 0, 0, 0, 0, 0, 0, 0, 0, 0, 0, 0, 0, 0, 0, 0, 0, 0, 0, 0, 0,\n",
       "       0, 0, 0, 0, 0, 0, 0, 0, 0, 0, 0, 0, 0, 0, 0, 0, 0, 0, 0, 0, 0, 0,\n",
       "       0, 0, 0, 0, 0, 0, 0, 0, 0, 0, 0, 0, 0, 0, 0, 0, 0, 0, 0, 0, 0, 0,\n",
       "       0, 0, 0, 0, 0, 0, 0, 0, 0, 0, 0, 0, 0, 0, 0, 0, 0, 0, 0, 0, 0, 0,\n",
       "       0, 0, 0, 0, 0, 0, 0, 0, 0, 0, 0, 0, 0, 0, 0, 0, 0, 0, 0, 0, 0, 0,\n",
       "       0, 0, 0, 0, 0, 0, 0, 0, 0, 0, 0, 0, 0, 0, 0, 0, 0, 0, 0, 0, 0, 0,\n",
       "       0, 0, 0, 0, 0, 0, 0, 0, 0, 0, 0, 0, 0, 0, 0, 0, 0, 0, 0, 0, 0, 0,\n",
       "       0, 0, 0, 0, 0, 0, 0, 0, 0, 0, 0, 0, 0, 0, 0, 0, 0, 0, 0, 0, 0, 0,\n",
       "       0, 0, 0, 0, 0, 0, 0, 0, 0, 0, 0, 0, 0, 0, 0, 0, 0, 0, 0, 0, 0, 0,\n",
       "       0, 0, 0, 0, 0, 0, 0, 0, 0, 0, 0, 0, 0, 0, 0, 0, 0, 0, 0, 0, 0, 0,\n",
       "       0, 0, 0, 0, 0, 0, 0, 0, 0, 0, 0, 0, 0, 0, 0, 0, 0, 0, 0, 0, 0, 0,\n",
       "       0, 0, 0, 0, 0, 0, 0, 0, 0, 0, 0, 0, 0, 0, 0, 0, 0, 0, 0, 0, 0, 0,\n",
       "       0, 0, 0, 0, 0, 0, 0, 0, 0, 0, 0, 0, 0, 0, 0, 0, 0, 0, 0, 0, 0, 0,\n",
       "       0, 0, 0, 0, 0, 0, 0, 0, 0, 0, 0, 0, 0, 0, 0, 0, 0, 0, 0, 0, 0, 0,\n",
       "       0, 0, 0, 0, 0, 0, 0, 0, 0, 0, 0, 0, 0, 0, 0, 0, 0, 0, 0, 0, 0, 0,\n",
       "       0, 0, 0, 0, 0, 0, 0, 0, 0, 0, 0, 0, 0, 0, 0, 0, 0, 0, 0, 0, 0, 0,\n",
       "       0, 0, 0, 0, 0, 0, 0, 0, 0, 0, 0, 0, 0, 0, 0, 0, 0, 0, 0, 0, 0, 0,\n",
       "       0, 0, 0, 0, 0, 0, 0, 0, 0, 0, 0, 0, 0, 0, 0, 0])"
      ]
     },
     "execution_count": 140,
     "metadata": {},
     "output_type": "execute_result"
    }
   ],
   "source": [
    "best_model.predict(test_set_c)"
   ]
  },
  {
   "cell_type": "code",
   "execution_count": 144,
   "id": "582ecbdb-06c4-41c0-bc28-4f8bf6d5573c",
   "metadata": {},
   "outputs": [
    {
     "data": {
      "image/png": "[encoded data removed]",
      "text/plain": [
       "<Figure size 432x288 with 1 Axes>"
      ]
     },
     "metadata": {
      "needs_background": "light"
     },
     "output_type": "display_data"
    },
    {
     "data": {
      "text/plain": [
       "<AxesSubplot:title={'center':'ROC Curves for KNeighborsClassifier'}, xlabel='False Positive Rate', ylabel='True Positive Rate'>"
      ]
     },
     "execution_count": 144,
     "metadata": {},
     "output_type": "execute_result"
    }
   ],
   "source": [
    "visualizer = ROCAUC(classifier, classes=[0,1])\n",
    "\n",
    "visualizer.fit(X_train, y_train)        # Fit the training data to the visualizer\n",
    "visualizer.score(X_test, y_test)        # Evaluate the model on the test data\n",
    "visualizer.show()  "
   ]
  },
  {
   "cell_type": "code",
   "execution_count": 143,
   "id": "2f6ed435-4ee2-4a4c-b019-83dec506f52f",
   "metadata": {},
   "outputs": [],
   "source": [
    "# from sklearn.metrics import plot_roc_curve\n",
    "# plot_roc_curve(classifier,X_test,y_test)"
   ]
  },
  {
   "cell_type": "code",
   "execution_count": null,
   "id": "9b4707ff-7fd7-412c-b2b3-dd93afd99617",
   "metadata": {},
   "outputs": [],
   "source": []
  },
  {
   "cell_type": "code",
   "execution_count": null,
   "id": "346454ee-102b-4ca1-acad-987fdae3629e",
   "metadata": {},
   "outputs": [],
   "source": [
    "## add feature is hotspot or not"
   ]
  },
  {
   "cell_type": "markdown",
   "id": "92c85a2a-eef7-4cbc-9a7f-2cac0aec39d4",
   "metadata": {},
   "source": [
    "## Q3 "
   ]
  },
  {
   "cell_type": "code",
   "execution_count": 153,
   "id": "0566c7fa-837e-4b81-8f68-fd44b514c8c5",
   "metadata": {},
   "outputs": [],
   "source": [
    "from sklearn.cluster import DBSCAN"
   ]
  },
  {
   "cell_type": "code",
   "execution_count": 155,
   "id": "077b7bc9-88c3-4dd3-af8c-e304dbaeb872",
   "metadata": {},
   "outputs": [],
   "source": [
    "def visualize_dbscan(db: DBSCAN, X):\n",
    "\n",
    "    core_samples_mask = np.zeros_like(db.labels_, dtype=bool)\n",
    "    core_samples_mask[db.core_sample_indices_] = True\n",
    "\n",
    "    labels = db.labels_\n",
    "    \n",
    "    # Number of clusters in labels, ignoring noise if present.\n",
    "    n_clusters_ = len(set(labels)) - (1 if -1 in labels else 0)\n",
    "    n_noise_ = list(labels).count(-1)\n",
    "\n",
    "    print('Estimated number of clusters: %d' % n_clusters_)\n",
    "\n",
    "    # Black removed and is used for noise instead.\n",
    "    unique_labels = set(labels)\n",
    "    colors = [plt.cm.Spectral(each) for each in np.linspace(0, 1, len(unique_labels))]\n",
    "    for k, col in zip(unique_labels, colors):\n",
    "        if k == -1:\n",
    "            # Black used for noise.\n",
    "            col = [0, 0, 0, 1]\n",
    "            continue\n",
    "\n",
    "        class_member_mask = (labels == k)\n",
    "\n",
    "        xy = X[class_member_mask & core_samples_mask].values\n",
    "        plt.plot(xy[:, 0], xy[:, 1], 'o', markerfacecolor=tuple(col), markeredgecolor='k', markersize=14)\n",
    "\n",
    "        xy = X[class_member_mask & ~core_samples_mask].values\n",
    "        plt.plot(xy[:, 0], xy[:, 1], 'o', markerfacecolor=tuple(col), markeredgecolor='k', markersize=6)\n",
    "\n",
    "    plt.title('Estimated number of clusters: %d' % n_clusters_)\n",
    "    plt.show()"
   ]
  },
  {
   "cell_type": "code",
   "execution_count": null,
   "id": "4dcc89d2-b7a0-48bf-a12e-08797fee90ae",
   "metadata": {},
   "outputs": [],
   "source": [
    "sampled_data = df_all[df_all['Occupancy'] == 1][['Latitude', 'Longitude']].sample(frac=0.3, random_state=0)\n",
    "\n",
    "db = DBSCAN(eps=3, min_samples=100)\n",
    "db.fit(sampled_data)\n",
    "visualize_dbscan(db=db, X=sampled_data)"
   ]
  },
  {
   "cell_type": "code",
   "execution_count": null,
   "id": "eebfad78-0817-4fd2-90a2-871f38d9ef73",
   "metadata": {},
   "outputs": [],
   "source": []
  },
  {
   "cell_type": "code",
   "execution_count": null,
   "id": "1a963783-b5e7-4c7e-b360-1ac6d2bb7c43",
   "metadata": {},
   "outputs": [],
   "source": []
  },
  {
   "cell_type": "code",
   "execution_count": null,
   "id": "a2258311-edc7-4c96-9f67-5a1f4852c702",
   "metadata": {},
   "outputs": [],
   "source": []
  },
  {
   "cell_type": "markdown",
   "id": "cdc4219d-abdd-4960-a88f-33afc437b04a",
   "metadata": {},
   "source": [
    "### Gridsearch and other code"
   ]
  },
  {
   "cell_type": "code",
   "execution_count": null,
   "id": "0076f28a-f21f-4e53-893a-90f115a12090",
   "metadata": {},
   "outputs": [],
   "source": [
    "# # \"colsample_by_tree\" is the fraction of features (randomly selected) that will be used to train each tree.\n",
    "\n",
    "# param_grid = { 'n_estimators': np.arange(100,201,100),\n",
    "#              'max_depth': np.arange(3,13,3)}\n",
    "# # 'learning_rate': ,\n",
    "# # 'colsample_bytree': np.arange(0.1,0.5,0.2),\n",
    "\n",
    "# # objective=\"binary:logistic\" is more applicable for one vs one \n",
    "# # In fact, even if the default obj parameter of XGBClassifier is binary:logistic, it will internally judge the number of class of label y. \n",
    "# # When the class number is greater than 2, it will modify the obj parameter to multi:softmax.\n",
    "# xgb = XGBClassifier(objective=\"multi:softmax\", random_state=42)\n",
    "\n",
    "# grid_search_xgb = GridSearchCV(estimator = xgb, param_grid = param_grid, verbose=2,cv = 5, scoring = 'accuracy')\n",
    "\n",
    "# grid_search_xgb.fit(X_train, y_train,  eval_metric = 'mlogloss')\n",
    "\n",
    "# print('Best Score:', grid_search_xgb.best_score_)\n",
    "# print('Parameters:', grid_search_xgb.best_params_)\n",
    "# print('Best Model:', grid_search_xgb.best_estimator_)"
   ]
  },
  {
   "cell_type": "code",
   "execution_count": 13,
   "id": "86304bb5-75df-4268-ab40-55966a69d786",
   "metadata": {},
   "outputs": [],
   "source": [
    "# # best_model = grid_search_xgb.best_estimator_\n",
    "# best_model = XGBClassifier(random_state=42, n_estimators = 200, max_depth = 12, objective=\"softmax\", sample_weight=classes_weights)\n",
    "# best_model.fit(X_train, y_train,  eval_metric = 'auc')\n",
    "# y_pred = best_model.predict(X_test)\n",
    "# y_pred_train = best_model.predict(X_train)"
   ]
  },
  {
   "cell_type": "markdown",
   "id": "e4b044e8-dcae-4013-9da8-e59856f69935",
   "metadata": {
    "jp-MarkdownHeadingCollapsed": true,
    "tags": []
   },
   "source": [
    "# Deprecated"
   ]
  },
  {
   "cell_type": "code",
   "execution_count": null,
   "id": "560de065-6dd2-42ed-8ccf-9a1a1566fea9",
   "metadata": {},
   "outputs": [],
   "source": []
  },
  {
   "cell_type": "code",
   "execution_count": 126,
   "id": "ace1520a-eea4-49e5-8ae8-a5e5ca0e7f9a",
   "metadata": {},
   "outputs": [],
   "source": [
    "# #distance.distance(unit=15).destination((lat,lon),bering) \n",
    "# dist=distance.distance(kilometers=5).destination((37.7698200000000028,-122.4487699999999961),90)\n",
    "# (test_lat,test_long) = (dist[0],dist[1])\n",
    "# # distance.distance(kilometers=1).destination((37.7698200000000028,-122.4487699999999961),45)\n",
    "# timenow = datetime.now()\n",
    "# test_data_model = [[test_lat,test_long,timenow.weekday(),timenow.hour,timenow.day,timenow.minute]]"
   ]
  }
 ],
 "metadata": {
  "kernelspec": {
   "display_name": "Python 3 (ipykernel)",
   "language": "python",
   "name": "python3"
  },
  "language_info": {
   "codemirror_mode": {
    "name": "ipython",
    "version": 3
   },
   "file_extension": ".py",
   "mimetype": "text/x-python",
   "name": "python",
   "nbconvert_exporter": "python",
   "pygments_lexer": "ipython3",
   "version": "3.9.7"
  }
 },
 "nbformat": 4,
 "nbformat_minor": 5
}
